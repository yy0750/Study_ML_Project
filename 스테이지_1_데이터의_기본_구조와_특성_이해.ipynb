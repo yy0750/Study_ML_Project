{
  "nbformat": 4,
  "nbformat_minor": 0,
  "metadata": {
    "colab": {
      "provenance": [],
      "private_outputs": true,
      "authorship_tag": "ABX9TyP5O+QrtUImJ31YeiSN1qMe",
      "include_colab_link": true
    },
    "kernelspec": {
      "name": "python3",
      "display_name": "Python 3"
    },
    "language_info": {
      "name": "python"
    }
  },
  "cells": [
    {
      "cell_type": "markdown",
      "metadata": {
        "id": "view-in-github",
        "colab_type": "text"
      },
      "source": [
        "<a href=\"https://colab.research.google.com/github/yy0750/Study_ML_Project/blob/main/%EC%8A%A4%ED%85%8C%EC%9D%B4%EC%A7%80_1_%EB%8D%B0%EC%9D%B4%ED%84%B0%EC%9D%98_%EA%B8%B0%EB%B3%B8_%EA%B5%AC%EC%A1%B0%EC%99%80_%ED%8A%B9%EC%84%B1_%EC%9D%B4%ED%95%B4.ipynb\" target=\"_parent\"><img src=\"https://colab.research.google.com/assets/colab-badge.svg\" alt=\"Open In Colab\"/></a>"
      ]
    },
    {
      "cell_type": "markdown",
      "source": [
        "# 스테이지 1. 데이터의 기본 구조와 특성 이해\n",
        "## 도입\n",
        "안녕하세요, 데이터 사이언티스트 여러분!🙌\n",
        "\n",
        "스테이지 1에서는 ‘데이터의 기본 구조와 특성 이해’에 중점을 둡니다.<br>\n",
        "데이터 분석의 기초를 닦는 과정으로, 데이터를 불러오고, 체계적으로 확인하는 작업을 통해 데이터에 대한 깊이 있는 이해를 목표로 합니다.<br>\n",
        "우리는 수치형 데이터와 범주형 데이터의 기술통계량을 확인하며, 범주형 특성의 고유값도 함께 분석할 것입니다.<br>\n",
        "이 과정을 통해, 데이터의 전반적인 특성과 구조를 파악하고, 다음 스테이지에서의 분석 방향을 설정하는 데 도움을 얻을 수 있습니다.\n",
        "\n",
        "## 학습 목표\n",
        "- 데이터를 성공적으로 불러오고, 데이터의 기본적인 구조와 정보를 확인하기\n",
        "- 수치형(Numerical) 데이터의 기술통계량을 분석하여 데이터의 중심 경향, 분산, 범위 등을 이해하기\n",
        "- 범주형(categorical) 데이터의 기술통계량을 분석하여 각 범주의 빈도와 중요성을 파악하기\n",
        "- 범주형 특성의 고유값을 확인하여 데이터의 다양성을 이해하기"
      ],
      "metadata": {
        "id": "PW3GeEEkMOk8"
      }
    },
    {
      "cell_type": "markdown",
      "source": [
        "# 1. 데이터 불러오기"
      ],
      "metadata": {
        "id": "XaJII_UlVcjt"
      }
    },
    {
      "cell_type": "code",
      "execution_count": null,
      "metadata": {
        "id": "B_It-tFGU8vS"
      },
      "outputs": [],
      "source": [
        "import pandas as pd\n",
        "\n",
        "train = pd.read_csv('train.csv')\n",
        "test = pd.read_csv('test.csv')\n",
        "submission = pd.read_csv('sample_submission.csv')"
      ]
    },
    {
      "cell_type": "markdown",
      "source": [
        "# 2. 데이터 확인하기"
      ],
      "metadata": {
        "id": "FhjSUBZEVrvg"
      }
    },
    {
      "cell_type": "code",
      "source": [
        "display(train.head(5))\n",
        "display(test.head(5))\n",
        "display(submission.head(5))"
      ],
      "metadata": {
        "id": "MkpdJF_NVuPv"
      },
      "execution_count": null,
      "outputs": []
    },
    {
      "cell_type": "markdown",
      "source": [
        "# 3. 데이터 정보 확인"
      ],
      "metadata": {
        "id": "_QVC5VPlVvil"
      }
    },
    {
      "cell_type": "code",
      "source": [
        "train.info()"
      ],
      "metadata": {
        "id": "XXJn8wA0VyQq"
      },
      "execution_count": null,
      "outputs": []
    },
    {
      "cell_type": "markdown",
      "source": [
        "# 4. 수치형(numerical) 데이터 기술통계량 확인"
      ],
      "metadata": {
        "id": "c5Em_5KEVzs1"
      }
    },
    {
      "cell_type": "code",
      "source": [
        "import matplotlib.pyplot as plt\n",
        "import seaborn as sns\n",
        "\n",
        "description = train.describe().T\n",
        "\n",
        "fig, axs = plt.subplots(figsize=(11, 3))\n",
        "sns.heatmap(description, annot=True, fmt=\".2f\", cmap='coolwarm', linewidths=.5, ax=axs)\n",
        "axs.set_title('Descriptive Statistics Heatmap')\n",
        "plt.show()"
      ],
      "metadata": {
        "id": "ScALDs-xWWCa"
      },
      "execution_count": null,
      "outputs": []
    },
    {
      "cell_type": "markdown",
      "source": [
        "# 5. 범주형(categorical) 데이터 기술통계량 확인\n"
      ],
      "metadata": {
        "id": "LktycskdV4g2"
      }
    },
    {
      "cell_type": "code",
      "source": [
        "train_drop = train.drop(['ID'],axis = 1)\n",
        "\n",
        "train_drop.describe(include=['object']).T"
      ],
      "metadata": {
        "id": "55X_VVplWVp2"
      },
      "execution_count": null,
      "outputs": []
    },
    {
      "cell_type": "markdown",
      "source": [
        "# 6. 범주형 피처(feature) 고유값 출력"
      ],
      "metadata": {
        "id": "-CzMzZ80Way-"
      }
    },
    {
      "cell_type": "code",
      "source": [
        "categorical_Eng = ['workclass', 'education', 'marital.status', 'occupation', 'relationship', 'race', 'sex', 'native.country']\n",
        "categorical_Kor = ['근로 형태', '교육', '결혼 상태', '직업', '가족 관계', '인종', '성별', '국적']\n",
        "\n",
        "for Eng, Kor in zip(categorical_Eng, categorical_Kor ):\n",
        "    unique_values = train[Eng].unique().tolist()\n",
        "    print('\\n {0} ({1})\\n'.format(Eng, Kor), unique_values)"
      ],
      "metadata": {
        "id": "FDB062cCWb7i"
      },
      "execution_count": null,
      "outputs": []
    },
    {
      "cell_type": "code",
      "source": [
        "# 데이터 분할 및 전처리\n",
        "train_x = train.drop(columns=['ID', 'Income'])\n",
        "train_y = train['Income']\n",
        "test_x = test.drop(columns=['ID'])"
      ],
      "metadata": {
        "id": "1u_0VcHI6Klq"
      },
      "execution_count": null,
      "outputs": []
    },
    {
      "cell_type": "code",
      "source": [
        "# 범주형 변수 수치화\n",
        "from sklearn.preprocessing import LabelEncoder\n",
        "import numpy as np\n",
        "\n",
        "encoding_target = list(train_x.dtypes[train_x.dtypes == \"object\"].index)\n",
        "for i in encoding_target:\n",
        "    le = LabelEncoder()\n",
        "\n",
        "    # train과 test 데이터셋에서 해당 열의 모든 값을 문자열로 변환\n",
        "    train_x[i] = train_x[i].astype(str)\n",
        "    test_x[i] = test_x[i].astype(str)\n",
        "\n",
        "    le.fit(train_x[i])\n",
        "    train_x[i] = le.transform(train_x[i])\n",
        "\n",
        "    # test 데이터의 새로운 카테고리에 대해 le.classes_ 배열에 추가\n",
        "    for case in np.unique(test_x[i]):\n",
        "        if case not in le.classes_:\n",
        "            le.classes_ = np.append(le.classes_, case)\n",
        "\n",
        "    test_x[i] = le.transform(test_x[i])\n",
        "\n",
        "\n",
        "test_x.head()"
      ],
      "metadata": {
        "id": "eOmtH0GPYh9X"
      },
      "execution_count": null,
      "outputs": []
    },
    {
      "cell_type": "code",
      "source": [
        "# # train_x와 test_x에서 'Gender' 열 변환\n",
        "# train_x['Gender'] = train_x['Gender'].map({'M': 1, 'F': 0})\n",
        "# test_x['Gender'] = test_x['Gender'].map({'M': 1, 'F': 0})\n",
        "\n",
        "# test_x.head()"
      ],
      "metadata": {
        "id": "_hDJjzIT8wGG"
      },
      "execution_count": null,
      "outputs": []
    },
    {
      "cell_type": "code",
      "source": [
        "# 선형 회귀 모델 초기화 및 훈련\n",
        "from sklearn.linear_model import LinearRegression\n",
        "model = LinearRegression()\n",
        "model.fit(train_x, train_y)"
      ],
      "metadata": {
        "id": "-nhpYO2Y6mHE"
      },
      "execution_count": null,
      "outputs": []
    },
    {
      "cell_type": "code",
      "source": [
        "test"
      ],
      "metadata": {
        "id": "VtuYUHbF9W2H"
      },
      "execution_count": null,
      "outputs": []
    },
    {
      "cell_type": "code",
      "source": [
        "from sklearn.metrics import mean_squared_error\n",
        "# 테스트 데이터에 대한 예측\n",
        "predictions = model.predict(test_x)\n",
        "\n",
        "# RMSE 계산\n",
        "rmse = mean_squared_error(test_y, predictions, squared=False)\n",
        "rmse"
      ],
      "metadata": {
        "id": "eYOFcPy566UI"
      },
      "execution_count": null,
      "outputs": []
    },
    {
      "cell_type": "code",
      "source": [],
      "metadata": {
        "id": "KAldVqTy7_kX"
      },
      "execution_count": null,
      "outputs": []
    }
  ]
}